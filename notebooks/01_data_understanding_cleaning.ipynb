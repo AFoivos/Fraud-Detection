{
 "cells": [
  {
   "cell_type": "code",
   "execution_count": 21,
   "id": "518ca774",
   "metadata": {},
   "outputs": [],
   "source": [
    "import pandas as pd\n",
    "import numpy as np\n",
    "from sklearn.preprocessing import LabelEncoder\n",
    "from sklearn.preprocessing import MinMaxScaler"
   ]
  },
  {
   "cell_type": "code",
   "execution_count": 22,
   "id": "778a3a5d",
   "metadata": {},
   "outputs": [],
   "source": [
    "df = pd.read_csv('../data/bank_transactions_data.csv')"
   ]
  },
  {
   "cell_type": "code",
   "execution_count": 23,
   "id": "aabd458d",
   "metadata": {},
   "outputs": [
    {
     "data": {
      "text/plain": [
       "(2512, 16)"
      ]
     },
     "execution_count": 23,
     "metadata": {},
     "output_type": "execute_result"
    }
   ],
   "source": [
    "df.shape"
   ]
  },
  {
   "cell_type": "code",
   "execution_count": 24,
   "id": "99442c89",
   "metadata": {},
   "outputs": [
    {
     "data": {
      "application/vnd.microsoft.datawrangler.viewer.v0+json": {
       "columns": [
        {
         "name": "index",
         "rawType": "int64",
         "type": "integer"
        },
        {
         "name": "TransactionID",
         "rawType": "object",
         "type": "string"
        },
        {
         "name": "AccountID",
         "rawType": "object",
         "type": "string"
        },
        {
         "name": "TransactionAmount",
         "rawType": "float64",
         "type": "float"
        },
        {
         "name": "TransactionDate",
         "rawType": "object",
         "type": "string"
        },
        {
         "name": "TransactionType",
         "rawType": "object",
         "type": "string"
        },
        {
         "name": "Location",
         "rawType": "object",
         "type": "string"
        },
        {
         "name": "DeviceID",
         "rawType": "object",
         "type": "string"
        },
        {
         "name": "IP Address",
         "rawType": "object",
         "type": "string"
        },
        {
         "name": "MerchantID",
         "rawType": "object",
         "type": "string"
        },
        {
         "name": "Channel",
         "rawType": "object",
         "type": "string"
        },
        {
         "name": "CustomerAge",
         "rawType": "int64",
         "type": "integer"
        },
        {
         "name": "CustomerOccupation",
         "rawType": "object",
         "type": "string"
        },
        {
         "name": "TransactionDuration",
         "rawType": "int64",
         "type": "integer"
        },
        {
         "name": "LoginAttempts",
         "rawType": "int64",
         "type": "integer"
        },
        {
         "name": "AccountBalance",
         "rawType": "float64",
         "type": "float"
        },
        {
         "name": "PreviousTransactionDate",
         "rawType": "object",
         "type": "string"
        }
       ],
       "ref": "c2e399b4-8117-49ed-8eec-dff0c7f87b7a",
       "rows": [
        [
         "0",
         "TX000001",
         "AC00128",
         "14.09",
         "2023-04-11 16:29:14",
         "Debit",
         "San Diego",
         "D000380",
         "162.198.218.92",
         "M015",
         "ATM",
         "70",
         "Doctor",
         "81",
         "1",
         "5112.21",
         "2024-11-04 08:08:08"
        ],
        [
         "1",
         "TX000002",
         "AC00455",
         "376.24",
         "2023-06-27 16:44:19",
         "Debit",
         "Houston",
         "D000051",
         "13.149.61.4",
         "M052",
         "ATM",
         "68",
         "Doctor",
         "141",
         "1",
         "13758.91",
         "2024-11-04 08:09:35"
        ],
        [
         "2",
         "TX000003",
         "AC00019",
         "126.29",
         "2023-07-10 18:16:08",
         "Debit",
         "Mesa",
         "D000235",
         "215.97.143.157",
         "M009",
         "Online",
         "19",
         "Student",
         "56",
         "1",
         "1122.35",
         "2024-11-04 08:07:04"
        ],
        [
         "3",
         "TX000004",
         "AC00070",
         "184.5",
         "2023-05-05 16:32:11",
         "Debit",
         "Raleigh",
         "D000187",
         "200.13.225.150",
         "M002",
         "Online",
         "26",
         "Student",
         "25",
         "1",
         "8569.06",
         "2024-11-04 08:09:06"
        ],
        [
         "4",
         "TX000005",
         "AC00411",
         "13.45",
         "2023-10-16 17:51:24",
         "Credit",
         "Atlanta",
         "D000308",
         "65.164.3.100",
         "M091",
         "Online",
         "26",
         "Student",
         "198",
         "1",
         "7429.4",
         "2024-11-04 08:06:39"
        ]
       ],
       "shape": {
        "columns": 16,
        "rows": 5
       }
      },
      "text/html": [
       "<div>\n",
       "<style scoped>\n",
       "    .dataframe tbody tr th:only-of-type {\n",
       "        vertical-align: middle;\n",
       "    }\n",
       "\n",
       "    .dataframe tbody tr th {\n",
       "        vertical-align: top;\n",
       "    }\n",
       "\n",
       "    .dataframe thead th {\n",
       "        text-align: right;\n",
       "    }\n",
       "</style>\n",
       "<table border=\"1\" class=\"dataframe\">\n",
       "  <thead>\n",
       "    <tr style=\"text-align: right;\">\n",
       "      <th></th>\n",
       "      <th>TransactionID</th>\n",
       "      <th>AccountID</th>\n",
       "      <th>TransactionAmount</th>\n",
       "      <th>TransactionDate</th>\n",
       "      <th>TransactionType</th>\n",
       "      <th>Location</th>\n",
       "      <th>DeviceID</th>\n",
       "      <th>IP Address</th>\n",
       "      <th>MerchantID</th>\n",
       "      <th>Channel</th>\n",
       "      <th>CustomerAge</th>\n",
       "      <th>CustomerOccupation</th>\n",
       "      <th>TransactionDuration</th>\n",
       "      <th>LoginAttempts</th>\n",
       "      <th>AccountBalance</th>\n",
       "      <th>PreviousTransactionDate</th>\n",
       "    </tr>\n",
       "  </thead>\n",
       "  <tbody>\n",
       "    <tr>\n",
       "      <th>0</th>\n",
       "      <td>TX000001</td>\n",
       "      <td>AC00128</td>\n",
       "      <td>14.09</td>\n",
       "      <td>2023-04-11 16:29:14</td>\n",
       "      <td>Debit</td>\n",
       "      <td>San Diego</td>\n",
       "      <td>D000380</td>\n",
       "      <td>162.198.218.92</td>\n",
       "      <td>M015</td>\n",
       "      <td>ATM</td>\n",
       "      <td>70</td>\n",
       "      <td>Doctor</td>\n",
       "      <td>81</td>\n",
       "      <td>1</td>\n",
       "      <td>5112.21</td>\n",
       "      <td>2024-11-04 08:08:08</td>\n",
       "    </tr>\n",
       "    <tr>\n",
       "      <th>1</th>\n",
       "      <td>TX000002</td>\n",
       "      <td>AC00455</td>\n",
       "      <td>376.24</td>\n",
       "      <td>2023-06-27 16:44:19</td>\n",
       "      <td>Debit</td>\n",
       "      <td>Houston</td>\n",
       "      <td>D000051</td>\n",
       "      <td>13.149.61.4</td>\n",
       "      <td>M052</td>\n",
       "      <td>ATM</td>\n",
       "      <td>68</td>\n",
       "      <td>Doctor</td>\n",
       "      <td>141</td>\n",
       "      <td>1</td>\n",
       "      <td>13758.91</td>\n",
       "      <td>2024-11-04 08:09:35</td>\n",
       "    </tr>\n",
       "    <tr>\n",
       "      <th>2</th>\n",
       "      <td>TX000003</td>\n",
       "      <td>AC00019</td>\n",
       "      <td>126.29</td>\n",
       "      <td>2023-07-10 18:16:08</td>\n",
       "      <td>Debit</td>\n",
       "      <td>Mesa</td>\n",
       "      <td>D000235</td>\n",
       "      <td>215.97.143.157</td>\n",
       "      <td>M009</td>\n",
       "      <td>Online</td>\n",
       "      <td>19</td>\n",
       "      <td>Student</td>\n",
       "      <td>56</td>\n",
       "      <td>1</td>\n",
       "      <td>1122.35</td>\n",
       "      <td>2024-11-04 08:07:04</td>\n",
       "    </tr>\n",
       "    <tr>\n",
       "      <th>3</th>\n",
       "      <td>TX000004</td>\n",
       "      <td>AC00070</td>\n",
       "      <td>184.50</td>\n",
       "      <td>2023-05-05 16:32:11</td>\n",
       "      <td>Debit</td>\n",
       "      <td>Raleigh</td>\n",
       "      <td>D000187</td>\n",
       "      <td>200.13.225.150</td>\n",
       "      <td>M002</td>\n",
       "      <td>Online</td>\n",
       "      <td>26</td>\n",
       "      <td>Student</td>\n",
       "      <td>25</td>\n",
       "      <td>1</td>\n",
       "      <td>8569.06</td>\n",
       "      <td>2024-11-04 08:09:06</td>\n",
       "    </tr>\n",
       "    <tr>\n",
       "      <th>4</th>\n",
       "      <td>TX000005</td>\n",
       "      <td>AC00411</td>\n",
       "      <td>13.45</td>\n",
       "      <td>2023-10-16 17:51:24</td>\n",
       "      <td>Credit</td>\n",
       "      <td>Atlanta</td>\n",
       "      <td>D000308</td>\n",
       "      <td>65.164.3.100</td>\n",
       "      <td>M091</td>\n",
       "      <td>Online</td>\n",
       "      <td>26</td>\n",
       "      <td>Student</td>\n",
       "      <td>198</td>\n",
       "      <td>1</td>\n",
       "      <td>7429.40</td>\n",
       "      <td>2024-11-04 08:06:39</td>\n",
       "    </tr>\n",
       "  </tbody>\n",
       "</table>\n",
       "</div>"
      ],
      "text/plain": [
       "  TransactionID AccountID  TransactionAmount      TransactionDate  \\\n",
       "0      TX000001   AC00128              14.09  2023-04-11 16:29:14   \n",
       "1      TX000002   AC00455             376.24  2023-06-27 16:44:19   \n",
       "2      TX000003   AC00019             126.29  2023-07-10 18:16:08   \n",
       "3      TX000004   AC00070             184.50  2023-05-05 16:32:11   \n",
       "4      TX000005   AC00411              13.45  2023-10-16 17:51:24   \n",
       "\n",
       "  TransactionType   Location DeviceID      IP Address MerchantID Channel  \\\n",
       "0           Debit  San Diego  D000380  162.198.218.92       M015     ATM   \n",
       "1           Debit    Houston  D000051     13.149.61.4       M052     ATM   \n",
       "2           Debit       Mesa  D000235  215.97.143.157       M009  Online   \n",
       "3           Debit    Raleigh  D000187  200.13.225.150       M002  Online   \n",
       "4          Credit    Atlanta  D000308    65.164.3.100       M091  Online   \n",
       "\n",
       "   CustomerAge CustomerOccupation  TransactionDuration  LoginAttempts  \\\n",
       "0           70             Doctor                   81              1   \n",
       "1           68             Doctor                  141              1   \n",
       "2           19            Student                   56              1   \n",
       "3           26            Student                   25              1   \n",
       "4           26            Student                  198              1   \n",
       "\n",
       "   AccountBalance PreviousTransactionDate  \n",
       "0         5112.21     2024-11-04 08:08:08  \n",
       "1        13758.91     2024-11-04 08:09:35  \n",
       "2         1122.35     2024-11-04 08:07:04  \n",
       "3         8569.06     2024-11-04 08:09:06  \n",
       "4         7429.40     2024-11-04 08:06:39  "
      ]
     },
     "execution_count": 24,
     "metadata": {},
     "output_type": "execute_result"
    }
   ],
   "source": [
    "df.head()"
   ]
  },
  {
   "cell_type": "code",
   "execution_count": 25,
   "id": "bf21cb63",
   "metadata": {},
   "outputs": [
    {
     "data": {
      "application/vnd.microsoft.datawrangler.viewer.v0+json": {
       "columns": [
        {
         "name": "index",
         "rawType": "object",
         "type": "string"
        },
        {
         "name": "TransactionAmount",
         "rawType": "float64",
         "type": "float"
        },
        {
         "name": "CustomerAge",
         "rawType": "float64",
         "type": "float"
        },
        {
         "name": "TransactionDuration",
         "rawType": "float64",
         "type": "float"
        },
        {
         "name": "LoginAttempts",
         "rawType": "float64",
         "type": "float"
        },
        {
         "name": "AccountBalance",
         "rawType": "float64",
         "type": "float"
        }
       ],
       "ref": "5aabce21-2af7-4eb1-8e5e-3922e56b5c47",
       "rows": [
        [
         "count",
         "2512.0",
         "2512.0",
         "2512.0",
         "2512.0",
         "2512.0"
        ],
        [
         "mean",
         "297.5937778662421",
         "44.673964968152866",
         "119.64331210191082",
         "1.1246019108280254",
         "5114.302965764331"
        ],
        [
         "std",
         "291.9462433824229",
         "17.792198198366435",
         "69.96375692465404",
         "0.6026622213569746",
         "3900.9424987311"
        ],
        [
         "min",
         "0.26",
         "18.0",
         "10.0",
         "1.0",
         "101.25"
        ],
        [
         "25%",
         "81.885",
         "27.0",
         "63.0",
         "1.0",
         "1504.3700000000001"
        ],
        [
         "50%",
         "211.14",
         "45.0",
         "112.5",
         "1.0",
         "4735.51"
        ],
        [
         "75%",
         "414.52750000000003",
         "59.0",
         "161.0",
         "1.0",
         "7678.82"
        ],
        [
         "max",
         "1919.11",
         "80.0",
         "300.0",
         "5.0",
         "14977.99"
        ]
       ],
       "shape": {
        "columns": 5,
        "rows": 8
       }
      },
      "text/html": [
       "<div>\n",
       "<style scoped>\n",
       "    .dataframe tbody tr th:only-of-type {\n",
       "        vertical-align: middle;\n",
       "    }\n",
       "\n",
       "    .dataframe tbody tr th {\n",
       "        vertical-align: top;\n",
       "    }\n",
       "\n",
       "    .dataframe thead th {\n",
       "        text-align: right;\n",
       "    }\n",
       "</style>\n",
       "<table border=\"1\" class=\"dataframe\">\n",
       "  <thead>\n",
       "    <tr style=\"text-align: right;\">\n",
       "      <th></th>\n",
       "      <th>TransactionAmount</th>\n",
       "      <th>CustomerAge</th>\n",
       "      <th>TransactionDuration</th>\n",
       "      <th>LoginAttempts</th>\n",
       "      <th>AccountBalance</th>\n",
       "    </tr>\n",
       "  </thead>\n",
       "  <tbody>\n",
       "    <tr>\n",
       "      <th>count</th>\n",
       "      <td>2512.000000</td>\n",
       "      <td>2512.000000</td>\n",
       "      <td>2512.000000</td>\n",
       "      <td>2512.000000</td>\n",
       "      <td>2512.000000</td>\n",
       "    </tr>\n",
       "    <tr>\n",
       "      <th>mean</th>\n",
       "      <td>297.593778</td>\n",
       "      <td>44.673965</td>\n",
       "      <td>119.643312</td>\n",
       "      <td>1.124602</td>\n",
       "      <td>5114.302966</td>\n",
       "    </tr>\n",
       "    <tr>\n",
       "      <th>std</th>\n",
       "      <td>291.946243</td>\n",
       "      <td>17.792198</td>\n",
       "      <td>69.963757</td>\n",
       "      <td>0.602662</td>\n",
       "      <td>3900.942499</td>\n",
       "    </tr>\n",
       "    <tr>\n",
       "      <th>min</th>\n",
       "      <td>0.260000</td>\n",
       "      <td>18.000000</td>\n",
       "      <td>10.000000</td>\n",
       "      <td>1.000000</td>\n",
       "      <td>101.250000</td>\n",
       "    </tr>\n",
       "    <tr>\n",
       "      <th>25%</th>\n",
       "      <td>81.885000</td>\n",
       "      <td>27.000000</td>\n",
       "      <td>63.000000</td>\n",
       "      <td>1.000000</td>\n",
       "      <td>1504.370000</td>\n",
       "    </tr>\n",
       "    <tr>\n",
       "      <th>50%</th>\n",
       "      <td>211.140000</td>\n",
       "      <td>45.000000</td>\n",
       "      <td>112.500000</td>\n",
       "      <td>1.000000</td>\n",
       "      <td>4735.510000</td>\n",
       "    </tr>\n",
       "    <tr>\n",
       "      <th>75%</th>\n",
       "      <td>414.527500</td>\n",
       "      <td>59.000000</td>\n",
       "      <td>161.000000</td>\n",
       "      <td>1.000000</td>\n",
       "      <td>7678.820000</td>\n",
       "    </tr>\n",
       "    <tr>\n",
       "      <th>max</th>\n",
       "      <td>1919.110000</td>\n",
       "      <td>80.000000</td>\n",
       "      <td>300.000000</td>\n",
       "      <td>5.000000</td>\n",
       "      <td>14977.990000</td>\n",
       "    </tr>\n",
       "  </tbody>\n",
       "</table>\n",
       "</div>"
      ],
      "text/plain": [
       "       TransactionAmount  CustomerAge  TransactionDuration  LoginAttempts  \\\n",
       "count        2512.000000  2512.000000          2512.000000    2512.000000   \n",
       "mean          297.593778    44.673965           119.643312       1.124602   \n",
       "std           291.946243    17.792198            69.963757       0.602662   \n",
       "min             0.260000    18.000000            10.000000       1.000000   \n",
       "25%            81.885000    27.000000            63.000000       1.000000   \n",
       "50%           211.140000    45.000000           112.500000       1.000000   \n",
       "75%           414.527500    59.000000           161.000000       1.000000   \n",
       "max          1919.110000    80.000000           300.000000       5.000000   \n",
       "\n",
       "       AccountBalance  \n",
       "count     2512.000000  \n",
       "mean      5114.302966  \n",
       "std       3900.942499  \n",
       "min        101.250000  \n",
       "25%       1504.370000  \n",
       "50%       4735.510000  \n",
       "75%       7678.820000  \n",
       "max      14977.990000  "
      ]
     },
     "execution_count": 25,
     "metadata": {},
     "output_type": "execute_result"
    }
   ],
   "source": [
    "df.describe()"
   ]
  },
  {
   "cell_type": "code",
   "execution_count": 26,
   "id": "5d9860ff",
   "metadata": {},
   "outputs": [
    {
     "data": {
      "application/vnd.microsoft.datawrangler.viewer.v0+json": {
       "columns": [
        {
         "name": "index",
         "rawType": "object",
         "type": "string"
        },
        {
         "name": "0",
         "rawType": "int64",
         "type": "integer"
        }
       ],
       "ref": "d3097b78-cded-4ed9-983b-68f2becb44ac",
       "rows": [
        [
         "TransactionID",
         "0"
        ],
        [
         "AccountID",
         "0"
        ],
        [
         "TransactionAmount",
         "0"
        ],
        [
         "TransactionDate",
         "0"
        ],
        [
         "TransactionType",
         "0"
        ],
        [
         "Location",
         "0"
        ],
        [
         "DeviceID",
         "0"
        ],
        [
         "IP Address",
         "0"
        ],
        [
         "MerchantID",
         "0"
        ],
        [
         "Channel",
         "0"
        ],
        [
         "CustomerAge",
         "0"
        ],
        [
         "CustomerOccupation",
         "0"
        ],
        [
         "TransactionDuration",
         "0"
        ],
        [
         "LoginAttempts",
         "0"
        ],
        [
         "AccountBalance",
         "0"
        ],
        [
         "PreviousTransactionDate",
         "0"
        ]
       ],
       "shape": {
        "columns": 1,
        "rows": 16
       }
      },
      "text/plain": [
       "TransactionID              0\n",
       "AccountID                  0\n",
       "TransactionAmount          0\n",
       "TransactionDate            0\n",
       "TransactionType            0\n",
       "Location                   0\n",
       "DeviceID                   0\n",
       "IP Address                 0\n",
       "MerchantID                 0\n",
       "Channel                    0\n",
       "CustomerAge                0\n",
       "CustomerOccupation         0\n",
       "TransactionDuration        0\n",
       "LoginAttempts              0\n",
       "AccountBalance             0\n",
       "PreviousTransactionDate    0\n",
       "dtype: int64"
      ]
     },
     "execution_count": 26,
     "metadata": {},
     "output_type": "execute_result"
    }
   ],
   "source": [
    "df.isnull().sum()"
   ]
  },
  {
   "cell_type": "code",
   "execution_count": 27,
   "id": "55b99beb",
   "metadata": {},
   "outputs": [
    {
     "data": {
      "application/vnd.microsoft.datawrangler.viewer.v0+json": {
       "columns": [
        {
         "name": "index",
         "rawType": "object",
         "type": "string"
        },
        {
         "name": "0",
         "rawType": "int64",
         "type": "integer"
        }
       ],
       "ref": "465c6508-000e-48f6-8b27-e8054141c8cc",
       "rows": [
        [
         "TransactionID",
         "2512"
        ],
        [
         "AccountID",
         "495"
        ],
        [
         "TransactionAmount",
         "2455"
        ],
        [
         "TransactionDate",
         "2512"
        ],
        [
         "TransactionType",
         "2"
        ],
        [
         "Location",
         "43"
        ],
        [
         "DeviceID",
         "681"
        ],
        [
         "IP Address",
         "592"
        ],
        [
         "MerchantID",
         "100"
        ],
        [
         "Channel",
         "3"
        ],
        [
         "CustomerAge",
         "63"
        ],
        [
         "CustomerOccupation",
         "4"
        ],
        [
         "TransactionDuration",
         "288"
        ],
        [
         "LoginAttempts",
         "5"
        ],
        [
         "AccountBalance",
         "2510"
        ],
        [
         "PreviousTransactionDate",
         "360"
        ]
       ],
       "shape": {
        "columns": 1,
        "rows": 16
       }
      },
      "text/plain": [
       "TransactionID              2512\n",
       "AccountID                   495\n",
       "TransactionAmount          2455\n",
       "TransactionDate            2512\n",
       "TransactionType               2\n",
       "Location                     43\n",
       "DeviceID                    681\n",
       "IP Address                  592\n",
       "MerchantID                  100\n",
       "Channel                       3\n",
       "CustomerAge                  63\n",
       "CustomerOccupation            4\n",
       "TransactionDuration         288\n",
       "LoginAttempts                 5\n",
       "AccountBalance             2510\n",
       "PreviousTransactionDate     360\n",
       "dtype: int64"
      ]
     },
     "execution_count": 27,
     "metadata": {},
     "output_type": "execute_result"
    }
   ],
   "source": [
    "df.nunique()"
   ]
  },
  {
   "cell_type": "code",
   "execution_count": 28,
   "id": "5b660cd1",
   "metadata": {},
   "outputs": [],
   "source": [
    "initial_rows = df.shape[0]\n",
    "df = df.drop_duplicates()"
   ]
  },
  {
   "cell_type": "code",
   "execution_count": 29,
   "id": "6b434ada",
   "metadata": {},
   "outputs": [
    {
     "name": "stdout",
     "output_type": "stream",
     "text": [
      "Initial rows: 2512, Rows after dropping duplicates: 2512\n"
     ]
    }
   ],
   "source": [
    "print(f\"Initial rows: {initial_rows}, Rows after dropping duplicates: {df.shape[0]}\")"
   ]
  },
  {
   "cell_type": "code",
   "execution_count": 30,
   "id": "8425e4d4",
   "metadata": {},
   "outputs": [
    {
     "name": "stdout",
     "output_type": "stream",
     "text": [
      "Converted 'TransactionDate' to datetime\n",
      "Converted 'PreviousTransactionDate' to datetime\n"
     ]
    }
   ],
   "source": [
    "for col in ['TransactionDate', 'PreviousTransactionDate']:\n",
    "    df[col] = pd.to_datetime(df[col])\n",
    "    print(f\"Converted '{col}' to datetime\")"
   ]
  },
  {
   "cell_type": "code",
   "execution_count": 31,
   "id": "29a71302",
   "metadata": {},
   "outputs": [
    {
     "name": "stdout",
     "output_type": "stream",
     "text": [
      "Encoded column 'TransactionID'\n",
      "Encoded column 'AccountID'\n",
      "Encoded column 'TransactionType'\n",
      "Encoded column 'Location'\n",
      "Encoded column 'DeviceID'\n",
      "Encoded column 'IP Address'\n",
      "Encoded column 'MerchantID'\n",
      "Encoded column 'Channel'\n",
      "Encoded column 'CustomerOccupation'\n"
     ]
    }
   ],
   "source": [
    "le = LabelEncoder()\n",
    "\n",
    "categorical_cols = ['TransactionID', 'AccountID', 'TransactionType', 'Location', 'DeviceID', 'IP Address',\n",
    "                    'MerchantID', 'Channel', 'CustomerOccupation']\n",
    "for col in categorical_cols:\n",
    "    df[col] = le.fit_transform(df[col])\n",
    "    print(f\"Encoded column '{col}'\")"
   ]
  },
  {
   "cell_type": "code",
   "execution_count": 32,
   "id": "c0e004bc",
   "metadata": {},
   "outputs": [
    {
     "name": "stdout",
     "output_type": "stream",
     "text": [
      "\n",
      "Normalized numerical columns\n"
     ]
    }
   ],
   "source": [
    "scaler = MinMaxScaler()\n",
    "\n",
    "num_cols = ['TransactionAmount', 'CustomerAge', 'TransactionDuration', 'LoginAttempts', 'AccountBalance']\n",
    "df[num_cols] = scaler.fit_transform(df[num_cols])\n",
    "print(\"\\nNormalized numerical columns\")"
   ]
  },
  {
   "cell_type": "code",
   "execution_count": 33,
   "id": "75a8d43d",
   "metadata": {},
   "outputs": [
    {
     "name": "stdout",
     "output_type": "stream",
     "text": [
      "Swapped TransactionDate and PreviousTransactionDate in 2512 rows\n"
     ]
    }
   ],
   "source": [
    "mask = df['PreviousTransactionDate'] > df['TransactionDate']\n",
    "df.loc[mask, ['TransactionDate', 'PreviousTransactionDate']] = df.loc[mask, ['PreviousTransactionDate', 'TransactionDate']].values\n",
    "print(f\"Swapped TransactionDate and PreviousTransactionDate in {mask.sum()} rows\")"
   ]
  },
  {
   "cell_type": "code",
   "execution_count": 34,
   "id": "b18251ba",
   "metadata": {},
   "outputs": [
    {
     "name": "stdout",
     "output_type": "stream",
     "text": [
      "Added 'time_diff' feature\n"
     ]
    }
   ],
   "source": [
    "df = df.sort_values(by='TransactionDate')\n",
    "df['time_diff'] = df['TransactionDate'].diff().dt.total_seconds().fillna(0)\n",
    "print(\"Added 'time_diff' feature\")"
   ]
  },
  {
   "cell_type": "code",
   "execution_count": 35,
   "id": "f645751b",
   "metadata": {},
   "outputs": [
    {
     "name": "stdout",
     "output_type": "stream",
     "text": [
      "Added 'location_change' feature\n"
     ]
    }
   ],
   "source": [
    "df['location_change'] = df.groupby('AccountID')['Location'].transform(lambda x: (x != x.shift()).astype(int))\n",
    "print(\"Added 'location_change' feature\")"
   ]
  },
  {
   "cell_type": "code",
   "execution_count": 36,
   "id": "0047bf5a",
   "metadata": {},
   "outputs": [
    {
     "data": {
      "application/vnd.microsoft.datawrangler.viewer.v0+json": {
       "columns": [
        {
         "name": "index",
         "rawType": "int64",
         "type": "integer"
        },
        {
         "name": "TransactionID",
         "rawType": "int64",
         "type": "integer"
        },
        {
         "name": "AccountID",
         "rawType": "int64",
         "type": "integer"
        },
        {
         "name": "TransactionAmount",
         "rawType": "float64",
         "type": "float"
        },
        {
         "name": "TransactionDate",
         "rawType": "datetime64[ns]",
         "type": "datetime"
        },
        {
         "name": "TransactionType",
         "rawType": "int64",
         "type": "integer"
        },
        {
         "name": "Location",
         "rawType": "int64",
         "type": "integer"
        },
        {
         "name": "DeviceID",
         "rawType": "int64",
         "type": "integer"
        },
        {
         "name": "IP Address",
         "rawType": "int64",
         "type": "integer"
        },
        {
         "name": "MerchantID",
         "rawType": "int64",
         "type": "integer"
        },
        {
         "name": "Channel",
         "rawType": "int64",
         "type": "integer"
        },
        {
         "name": "CustomerAge",
         "rawType": "float64",
         "type": "float"
        },
        {
         "name": "CustomerOccupation",
         "rawType": "int64",
         "type": "integer"
        },
        {
         "name": "TransactionDuration",
         "rawType": "float64",
         "type": "float"
        },
        {
         "name": "LoginAttempts",
         "rawType": "float64",
         "type": "float"
        },
        {
         "name": "AccountBalance",
         "rawType": "float64",
         "type": "float"
        },
        {
         "name": "PreviousTransactionDate",
         "rawType": "datetime64[ns]",
         "type": "datetime"
        },
        {
         "name": "time_diff",
         "rawType": "float64",
         "type": "float"
        },
        {
         "name": "location_change",
         "rawType": "int64",
         "type": "integer"
        }
       ],
       "ref": "0d2b5460-a031-4b29-b3e6-25b3c9a7c363",
       "rows": [
        [
         "469",
         "469",
         "34",
         "0.03736091930062277",
         "2024-11-04 08:06:23",
         "0",
         "29",
         "395",
         "188",
         "99",
         "2",
         "0.6612903225806451",
         "1",
         "0.14827586206896554",
         "0.0",
         "0.6161343143726382",
         "2023-02-13 16:39:52",
         "0.0",
         "1"
        ],
        [
         "2044",
         "2044",
         "237",
         "0.09815775073611799",
         "2024-11-04 08:06:23",
         "1",
         "4",
         "436",
         "24",
         "82",
         "2",
         "0.7903225806451613",
         "2",
         "0.05517241379310345",
         "0.0",
         "0.4749911606978411",
         "2024-01-01 17:16:23",
         "0.0",
         "1"
        ],
        [
         "1252",
         "1252",
         "455",
         "0.1976600568048571",
         "2024-11-04 08:06:23",
         "0",
         "16",
         "648",
         "25",
         "39",
         "1",
         "0.3709677419354839",
         "0",
         "0.37241379310344824",
         "0.0",
         "0.8382555586775061",
         "2023-01-03 17:14:14",
         "0.0",
         "1"
        ],
        [
         "35",
         "35",
         "263",
         "0.06488261198113453",
         "2024-11-04 08:06:23",
         "1",
         "39",
         "41",
         "479",
         "1",
         "1",
         "0.5",
         "1",
         "0.1206896551724138",
         "0.0",
         "0.3806929475140387",
         "2023-10-16 16:32:56",
         "0.0",
         "1"
        ],
        [
         "2157",
         "2157",
         "153",
         "0.10784584516767855",
         "2024-11-04 08:06:23",
         "1",
         "8",
         "586",
         "340",
         "27",
         "2",
         "0.6774193548387097",
         "1",
         "0.4241379310344827",
         "0.0",
         "0.5371936324759323",
         "2024-01-01 16:12:32",
         "0.0",
         "1"
        ]
       ],
       "shape": {
        "columns": 18,
        "rows": 5
       }
      },
      "text/html": [
       "<div>\n",
       "<style scoped>\n",
       "    .dataframe tbody tr th:only-of-type {\n",
       "        vertical-align: middle;\n",
       "    }\n",
       "\n",
       "    .dataframe tbody tr th {\n",
       "        vertical-align: top;\n",
       "    }\n",
       "\n",
       "    .dataframe thead th {\n",
       "        text-align: right;\n",
       "    }\n",
       "</style>\n",
       "<table border=\"1\" class=\"dataframe\">\n",
       "  <thead>\n",
       "    <tr style=\"text-align: right;\">\n",
       "      <th></th>\n",
       "      <th>TransactionID</th>\n",
       "      <th>AccountID</th>\n",
       "      <th>TransactionAmount</th>\n",
       "      <th>TransactionDate</th>\n",
       "      <th>TransactionType</th>\n",
       "      <th>Location</th>\n",
       "      <th>DeviceID</th>\n",
       "      <th>IP Address</th>\n",
       "      <th>MerchantID</th>\n",
       "      <th>Channel</th>\n",
       "      <th>CustomerAge</th>\n",
       "      <th>CustomerOccupation</th>\n",
       "      <th>TransactionDuration</th>\n",
       "      <th>LoginAttempts</th>\n",
       "      <th>AccountBalance</th>\n",
       "      <th>PreviousTransactionDate</th>\n",
       "      <th>time_diff</th>\n",
       "      <th>location_change</th>\n",
       "    </tr>\n",
       "  </thead>\n",
       "  <tbody>\n",
       "    <tr>\n",
       "      <th>469</th>\n",
       "      <td>469</td>\n",
       "      <td>34</td>\n",
       "      <td>0.037361</td>\n",
       "      <td>2024-11-04 08:06:23</td>\n",
       "      <td>0</td>\n",
       "      <td>29</td>\n",
       "      <td>395</td>\n",
       "      <td>188</td>\n",
       "      <td>99</td>\n",
       "      <td>2</td>\n",
       "      <td>0.661290</td>\n",
       "      <td>1</td>\n",
       "      <td>0.148276</td>\n",
       "      <td>0.0</td>\n",
       "      <td>0.616134</td>\n",
       "      <td>2023-02-13 16:39:52</td>\n",
       "      <td>0.0</td>\n",
       "      <td>1</td>\n",
       "    </tr>\n",
       "    <tr>\n",
       "      <th>2044</th>\n",
       "      <td>2044</td>\n",
       "      <td>237</td>\n",
       "      <td>0.098158</td>\n",
       "      <td>2024-11-04 08:06:23</td>\n",
       "      <td>1</td>\n",
       "      <td>4</td>\n",
       "      <td>436</td>\n",
       "      <td>24</td>\n",
       "      <td>82</td>\n",
       "      <td>2</td>\n",
       "      <td>0.790323</td>\n",
       "      <td>2</td>\n",
       "      <td>0.055172</td>\n",
       "      <td>0.0</td>\n",
       "      <td>0.474991</td>\n",
       "      <td>2024-01-01 17:16:23</td>\n",
       "      <td>0.0</td>\n",
       "      <td>1</td>\n",
       "    </tr>\n",
       "    <tr>\n",
       "      <th>1252</th>\n",
       "      <td>1252</td>\n",
       "      <td>455</td>\n",
       "      <td>0.197660</td>\n",
       "      <td>2024-11-04 08:06:23</td>\n",
       "      <td>0</td>\n",
       "      <td>16</td>\n",
       "      <td>648</td>\n",
       "      <td>25</td>\n",
       "      <td>39</td>\n",
       "      <td>1</td>\n",
       "      <td>0.370968</td>\n",
       "      <td>0</td>\n",
       "      <td>0.372414</td>\n",
       "      <td>0.0</td>\n",
       "      <td>0.838256</td>\n",
       "      <td>2023-01-03 17:14:14</td>\n",
       "      <td>0.0</td>\n",
       "      <td>1</td>\n",
       "    </tr>\n",
       "    <tr>\n",
       "      <th>35</th>\n",
       "      <td>35</td>\n",
       "      <td>263</td>\n",
       "      <td>0.064883</td>\n",
       "      <td>2024-11-04 08:06:23</td>\n",
       "      <td>1</td>\n",
       "      <td>39</td>\n",
       "      <td>41</td>\n",
       "      <td>479</td>\n",
       "      <td>1</td>\n",
       "      <td>1</td>\n",
       "      <td>0.500000</td>\n",
       "      <td>1</td>\n",
       "      <td>0.120690</td>\n",
       "      <td>0.0</td>\n",
       "      <td>0.380693</td>\n",
       "      <td>2023-10-16 16:32:56</td>\n",
       "      <td>0.0</td>\n",
       "      <td>1</td>\n",
       "    </tr>\n",
       "    <tr>\n",
       "      <th>2157</th>\n",
       "      <td>2157</td>\n",
       "      <td>153</td>\n",
       "      <td>0.107846</td>\n",
       "      <td>2024-11-04 08:06:23</td>\n",
       "      <td>1</td>\n",
       "      <td>8</td>\n",
       "      <td>586</td>\n",
       "      <td>340</td>\n",
       "      <td>27</td>\n",
       "      <td>2</td>\n",
       "      <td>0.677419</td>\n",
       "      <td>1</td>\n",
       "      <td>0.424138</td>\n",
       "      <td>0.0</td>\n",
       "      <td>0.537194</td>\n",
       "      <td>2024-01-01 16:12:32</td>\n",
       "      <td>0.0</td>\n",
       "      <td>1</td>\n",
       "    </tr>\n",
       "  </tbody>\n",
       "</table>\n",
       "</div>"
      ],
      "text/plain": [
       "      TransactionID  AccountID  TransactionAmount     TransactionDate  \\\n",
       "469             469         34           0.037361 2024-11-04 08:06:23   \n",
       "2044           2044        237           0.098158 2024-11-04 08:06:23   \n",
       "1252           1252        455           0.197660 2024-11-04 08:06:23   \n",
       "35               35        263           0.064883 2024-11-04 08:06:23   \n",
       "2157           2157        153           0.107846 2024-11-04 08:06:23   \n",
       "\n",
       "      TransactionType  Location  DeviceID  IP Address  MerchantID  Channel  \\\n",
       "469                 0        29       395         188          99        2   \n",
       "2044                1         4       436          24          82        2   \n",
       "1252                0        16       648          25          39        1   \n",
       "35                  1        39        41         479           1        1   \n",
       "2157                1         8       586         340          27        2   \n",
       "\n",
       "      CustomerAge  CustomerOccupation  TransactionDuration  LoginAttempts  \\\n",
       "469      0.661290                   1             0.148276            0.0   \n",
       "2044     0.790323                   2             0.055172            0.0   \n",
       "1252     0.370968                   0             0.372414            0.0   \n",
       "35       0.500000                   1             0.120690            0.0   \n",
       "2157     0.677419                   1             0.424138            0.0   \n",
       "\n",
       "      AccountBalance PreviousTransactionDate  time_diff  location_change  \n",
       "469         0.616134     2023-02-13 16:39:52        0.0                1  \n",
       "2044        0.474991     2024-01-01 17:16:23        0.0                1  \n",
       "1252        0.838256     2023-01-03 17:14:14        0.0                1  \n",
       "35          0.380693     2023-10-16 16:32:56        0.0                1  \n",
       "2157        0.537194     2024-01-01 16:12:32        0.0                1  "
      ]
     },
     "execution_count": 36,
     "metadata": {},
     "output_type": "execute_result"
    }
   ],
   "source": [
    "df.head()"
   ]
  },
  {
   "cell_type": "code",
   "execution_count": 39,
   "id": "e2def45c",
   "metadata": {},
   "outputs": [],
   "source": [
    "df.to_csv('../data/clean_transactions_data.csv', index=False)"
   ]
  },
  {
   "cell_type": "code",
   "execution_count": 42,
   "id": "1cc4baed",
   "metadata": {},
   "outputs": [
    {
     "data": {
      "text/plain": [
       "Index(['TransactionID', 'AccountID', 'TransactionAmount', 'TransactionDate',\n",
       "       'TransactionType', 'Location', 'DeviceID', 'IP Address', 'MerchantID',\n",
       "       'Channel', 'CustomerAge', 'CustomerOccupation', 'TransactionDuration',\n",
       "       'LoginAttempts', 'AccountBalance', 'PreviousTransactionDate',\n",
       "       'time_diff', 'location_change'],\n",
       "      dtype='object')"
      ]
     },
     "execution_count": 42,
     "metadata": {},
     "output_type": "execute_result"
    }
   ],
   "source": [
    "df.columns"
   ]
  },
  {
   "cell_type": "code",
   "execution_count": null,
   "id": "956e7274",
   "metadata": {},
   "outputs": [],
   "source": []
  }
 ],
 "metadata": {
  "kernelspec": {
   "display_name": "Python (dpenv)",
   "language": "python",
   "name": "dpenv"
  },
  "language_info": {
   "codemirror_mode": {
    "name": "ipython",
    "version": 3
   },
   "file_extension": ".py",
   "mimetype": "text/x-python",
   "name": "python",
   "nbconvert_exporter": "python",
   "pygments_lexer": "ipython3",
   "version": "3.10.13"
  }
 },
 "nbformat": 4,
 "nbformat_minor": 5
}
